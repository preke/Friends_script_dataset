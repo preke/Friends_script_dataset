{
 "cells": [
  {
   "cell_type": "markdown",
   "metadata": {},
   "source": [
    "## Data Pre-processing, Dataset Construction"
   ]
  },
  {
   "cell_type": "code",
   "execution_count": 14,
   "metadata": {},
   "outputs": [],
   "source": [
    "import re\n",
    "import pandas as pd\n",
    "import numpy as np\n",
    "import os\n",
    "\n",
    "\n",
    "Personality_dict = {\n",
    "    'Phoebe' : [1,0,0,0,0],\n",
    "    'Monica' : [0,1,0,0,0],\n",
    "    'Joey' : [0,0,1,0,0],\n",
    "    'Rachel': [0,0,1,0,0],\n",
    "    'Chandler':[0,0,0,1,0],\n",
    "    'Ross': [0,0,0,0,1]\n",
    "}\n",
    "\n"
   ]
  },
  {
   "cell_type": "markdown",
   "metadata": {},
   "source": [
    "## Train-valid-test split"
   ]
  },
  {
   "cell_type": "code",
   "execution_count": 16,
   "metadata": {},
   "outputs": [],
   "source": [
    "Data_Path = './script'\n",
    "g = os.walk(Data_Path)\n",
    "\n",
    "train_list = []\n",
    "test_list = []\n",
    "valid_list = []\n",
    "\n",
    "for path,dir_list,file_list in g:  \n",
    "    for file in file_list:\n",
    "        prefix = file.split(' ')[0]\n",
    "        if len(prefix) >= 4 and prefix.startswith('100'):\n",
    "            valid_list.append(os.path.join(Data_Path, file))\n",
    "        elif len(prefix) >= 4 and prefix.startswith('10'):    \n",
    "            test_list.append(os.path.join(Data_Path, file))\n",
    "        else:\n",
    "            train_list.append(os.path.join(Data_Path, file))\n",
    "\n",
    "# ===============\n",
    "\n",
    "def get_df(file_list):\n",
    "    '''\n",
    "    Get dataframe from dialog filename list\n",
    "    '''\n",
    "    for file_path in file_list:\n",
    "        tmp_list = []\n",
    "        symbles =  [r'\\n', r'\\xc2', r'\\xa0', '-']\n",
    "        with open(File_Path, 'r') as f:\n",
    "            for line in f.readlines():\n",
    "                for s in symbles:\n",
    "                    line = line.replace(s, ' ')\n",
    "                tmp = line.split('\\t')\n",
    "                try:\n",
    "                    tmp.append(Personality_dict[tmp[0]])\n",
    "                except:\n",
    "                    tmp.append('Not Available')\n",
    "                tmp_list.append(tmp)    \n",
    "    tmp_df = pd.DataFrame(tmp_list, columns=['Role', 'Dialogue', 'Personality'])\n",
    "    return tmp_df\n",
    "\n",
    "\n",
    "train_df = get_df(train_list)\n",
    "valid_df = get_df(valid_list)\n",
    "test_df = get_df(test_list)\n",
    "\n",
    "# ==============="
   ]
  },
  {
   "cell_type": "markdown",
   "metadata": {},
   "source": [
    "## Post Processing\n",
    "\n",
    "- Merge utterances continuous occur from one role\n",
    "- Add emotion labels"
   ]
  },
  {
   "cell_type": "code",
   "execution_count": 31,
   "metadata": {},
   "outputs": [
    {
     "data": {
      "text/plain": [
       "'\\nNOW WE ARE HERE...\\n\\n'"
      ]
     },
     "execution_count": 31,
     "metadata": {},
     "output_type": "execute_result"
    }
   ],
   "source": [
    "def Merge_utterances(df):\n",
    "    '''\n",
    "    Merge utterances continuous occur from one role\n",
    "    '''\n",
    "    ans_list = []\n",
    "    i = 0\n",
    "    max_index = len(df.index)\n",
    "    while i < max_index:\n",
    "        tmp = [df.iloc[i]['Role'], df.iloc[i]['Dialogue'], df.iloc[i]['Personality']]\n",
    "        current_role = tmp[0]\n",
    "        j = i + 1\n",
    "        try:\n",
    "            while df.iloc[j]['Role'] == current_role:\n",
    "                tmp[1] += (' # ' + df.iloc[j]['Dialogue'])\n",
    "                j += 1\n",
    "        except:\n",
    "            pass\n",
    "        i = j\n",
    "        ans_list.append(tmp)\n",
    "    ans_df = pd.DataFrame(ans_list, columns=['Role', 'Dialogue', 'Personality'])\n",
    "    return ans_df\n",
    "\n",
    "\n",
    "train_df = Merge_utterances(train_df)\n",
    "valid_df = Merge_utterances(valid_df)\n",
    "test_df  = Merge_utterances(test_df)\n",
    "# ===============\n",
    "\n",
    "'''\n",
    "NOW WE ARE HERE...\n",
    "\n",
    "'''"
   ]
  },
  {
   "cell_type": "markdown",
   "metadata": {},
   "source": [
    "## Construct Triples\n",
    "\n",
    "- Remove the brackets (as context info)\n",
    "- Remove utterances from other roles (as context info)"
   ]
  },
  {
   "cell_type": "code",
   "execution_count": null,
   "metadata": {},
   "outputs": [],
   "source": [
    "\n",
    "\n",
    "\n",
    "\n",
    "cnt = 10\n",
    "\n",
    "File_Path = 'script/101  Monica Gets A Roommate.csv'\n",
    "tmp_list = []\n",
    "symbles =  [r'\\n', r'\\xc2', r'\\xa0', '-']\n",
    "with open(File_Path, 'r') as f:\n",
    "    for line in f.readlines():\n",
    "        if cnt > 0:\n",
    "            for s in symbles:\n",
    "                line = line.replace(s, ' ')\n",
    "            tmp = line.split('\\t')\n",
    "            try:\n",
    "                tmp.append(Personality_dict[tmp[0]])\n",
    "            except:\n",
    "                tmp.append('Not Available')\n",
    "            print(line)\n",
    "            tmp_list.append(tmp)    \n",
    "        cnt -=1    \n",
    "        \n",
    "tmp_df = pd.DataFrame(tmp_list, columns=['Role', 'Dialogue', 'Personality'])\n",
    "tmp_df\n",
    "\n",
    "      \n",
    "        "
   ]
  },
  {
   "cell_type": "markdown",
   "metadata": {},
   "source": [
    "## 探索一下多轮对话的情感分析"
   ]
  },
  {
   "cell_type": "code",
   "execution_count": null,
   "metadata": {},
   "outputs": [],
   "source": []
  }
 ],
 "metadata": {
  "kernelspec": {
   "display_name": "Python 3",
   "language": "python",
   "name": "python3"
  },
  "language_info": {
   "codemirror_mode": {
    "name": "ipython",
    "version": 3
   },
   "file_extension": ".py",
   "mimetype": "text/x-python",
   "name": "python",
   "nbconvert_exporter": "python",
   "pygments_lexer": "ipython3",
   "version": "3.7.4"
  },
  "toc": {
   "base_numbering": 1,
   "nav_menu": {},
   "number_sections": true,
   "sideBar": true,
   "skip_h1_title": false,
   "title_cell": "Table of Contents",
   "title_sidebar": "Contents",
   "toc_cell": false,
   "toc_position": {},
   "toc_section_display": true,
   "toc_window_display": false
  }
 },
 "nbformat": 4,
 "nbformat_minor": 2
}
